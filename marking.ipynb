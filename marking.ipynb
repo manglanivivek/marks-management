{
 "cells": [
  {
   "attachments": {},
   "cell_type": "markdown",
   "metadata": {},
   "source": [
    "# Student Marks Analysis"
   ]
  },
  {
   "attachments": {},
   "cell_type": "markdown",
   "metadata": {},
   "source": [
    "## Importing Libraries\n",
    "\n",
    "- Pandas for DataFrames <br>\n",
    "- Numpy for Arrays(if needed) <br>\n",
    "- Matplotlib for visualization <br>\n",
    "- Seaborn for Visualization <br>\n",
    "- Openpyxl to access .xlsx files <br>"
   ]
  },
  {
   "cell_type": "code",
   "execution_count": 130,
   "metadata": {},
   "outputs": [],
   "source": [
    "import pandas as pd\n",
    "import matplotlib.pyplot as mat\n",
    "import seaborn as sea\n",
    "import openpyxl\n",
    "import numpy as np"
   ]
  },
  {
   "attachments": {},
   "cell_type": "markdown",
   "metadata": {},
   "source": [
    "## Importing and Knowing about our Data"
   ]
  },
  {
   "cell_type": "code",
   "execution_count": 131,
   "metadata": {},
   "outputs": [
    {
     "data": {
      "text/html": [
       "<div>\n",
       "<style scoped>\n",
       "    .dataframe tbody tr th:only-of-type {\n",
       "        vertical-align: middle;\n",
       "    }\n",
       "\n",
       "    .dataframe tbody tr th {\n",
       "        vertical-align: top;\n",
       "    }\n",
       "\n",
       "    .dataframe thead th {\n",
       "        text-align: right;\n",
       "    }\n",
       "</style>\n",
       "<table border=\"1\" class=\"dataframe\">\n",
       "  <thead>\n",
       "    <tr style=\"text-align: right;\">\n",
       "      <th></th>\n",
       "      <th>ENROLLMENT NUMBER</th>\n",
       "      <th>NAME OF STUDENT</th>\n",
       "      <th>DF</th>\n",
       "      <th>PS</th>\n",
       "      <th>DS</th>\n",
       "      <th>DBMS</th>\n",
       "    </tr>\n",
       "  </thead>\n",
       "  <tbody>\n",
       "    <tr>\n",
       "      <th>1</th>\n",
       "      <td>211250116001</td>\n",
       "      <td>PATEL SMIT MINESHKUMAR</td>\n",
       "      <td>38</td>\n",
       "      <td>32</td>\n",
       "      <td>24</td>\n",
       "      <td>33</td>\n",
       "    </tr>\n",
       "    <tr>\n",
       "      <th>2</th>\n",
       "      <td>211250116002</td>\n",
       "      <td>PATEL DAKSH ROHITKUMAR</td>\n",
       "      <td>41</td>\n",
       "      <td>52</td>\n",
       "      <td>36</td>\n",
       "      <td>0</td>\n",
       "    </tr>\n",
       "    <tr>\n",
       "      <th>3</th>\n",
       "      <td>211250116003</td>\n",
       "      <td>B0ARIYA DEVANSHU BHAVESHBHAI</td>\n",
       "      <td>21</td>\n",
       "      <td>56</td>\n",
       "      <td>34</td>\n",
       "      <td>0</td>\n",
       "    </tr>\n",
       "    <tr>\n",
       "      <th>4</th>\n",
       "      <td>211250116004</td>\n",
       "      <td>Prajapati Gautam Minaxiben</td>\n",
       "      <td>22</td>\n",
       "      <td>54</td>\n",
       "      <td>26</td>\n",
       "      <td>42</td>\n",
       "    </tr>\n",
       "    <tr>\n",
       "      <th>5</th>\n",
       "      <td>211250116006</td>\n",
       "      <td>Patel Yash Pravinbhai</td>\n",
       "      <td>2</td>\n",
       "      <td>52</td>\n",
       "      <td>28</td>\n",
       "      <td>41</td>\n",
       "    </tr>\n",
       "  </tbody>\n",
       "</table>\n",
       "</div>"
      ],
      "text/plain": [
       "   ENROLLMENT NUMBER               NAME OF STUDENT  DF  PS  DS  DBMS\n",
       "1       211250116001        PATEL SMIT MINESHKUMAR  38  32  24    33\n",
       "2       211250116002        PATEL DAKSH ROHITKUMAR  41  52  36     0\n",
       "3       211250116003  B0ARIYA DEVANSHU BHAVESHBHAI  21  56  34     0\n",
       "4       211250116004    Prajapati Gautam Minaxiben  22  54  26    42\n",
       "5       211250116006         Patel Yash Pravinbhai   2  52  28    41"
      ]
     },
     "execution_count": 131,
     "metadata": {},
     "output_type": "execute_result"
    }
   ],
   "source": [
    "data = pd.read_excel('marksfinal.xlsx')\n",
    "data.index +=1\n",
    "data.head()"
   ]
  },
  {
   "cell_type": "code",
   "execution_count": 132,
   "metadata": {},
   "outputs": [
    {
     "data": {
      "text/html": [
       "<div>\n",
       "<style scoped>\n",
       "    .dataframe tbody tr th:only-of-type {\n",
       "        vertical-align: middle;\n",
       "    }\n",
       "\n",
       "    .dataframe tbody tr th {\n",
       "        vertical-align: top;\n",
       "    }\n",
       "\n",
       "    .dataframe thead th {\n",
       "        text-align: right;\n",
       "    }\n",
       "</style>\n",
       "<table border=\"1\" class=\"dataframe\">\n",
       "  <thead>\n",
       "    <tr style=\"text-align: right;\">\n",
       "      <th></th>\n",
       "      <th>DBMS</th>\n",
       "      <th>DF</th>\n",
       "      <th>PS</th>\n",
       "      <th>DS</th>\n",
       "    </tr>\n",
       "  </thead>\n",
       "  <tbody>\n",
       "    <tr>\n",
       "      <th>count</th>\n",
       "      <td>50.000000</td>\n",
       "      <td>50.000000</td>\n",
       "      <td>50.000000</td>\n",
       "      <td>50.000000</td>\n",
       "    </tr>\n",
       "    <tr>\n",
       "      <th>mean</th>\n",
       "      <td>21.560000</td>\n",
       "      <td>36.680000</td>\n",
       "      <td>33.600000</td>\n",
       "      <td>33.720000</td>\n",
       "    </tr>\n",
       "    <tr>\n",
       "      <th>std</th>\n",
       "      <td>15.842542</td>\n",
       "      <td>15.410624</td>\n",
       "      <td>14.437762</td>\n",
       "      <td>15.355701</td>\n",
       "    </tr>\n",
       "    <tr>\n",
       "      <th>min</th>\n",
       "      <td>0.000000</td>\n",
       "      <td>2.000000</td>\n",
       "      <td>1.000000</td>\n",
       "      <td>2.000000</td>\n",
       "    </tr>\n",
       "    <tr>\n",
       "      <th>25%</th>\n",
       "      <td>9.000000</td>\n",
       "      <td>25.000000</td>\n",
       "      <td>24.000000</td>\n",
       "      <td>24.250000</td>\n",
       "    </tr>\n",
       "    <tr>\n",
       "      <th>50%</th>\n",
       "      <td>23.000000</td>\n",
       "      <td>36.000000</td>\n",
       "      <td>28.500000</td>\n",
       "      <td>31.500000</td>\n",
       "    </tr>\n",
       "    <tr>\n",
       "      <th>75%</th>\n",
       "      <td>32.750000</td>\n",
       "      <td>47.750000</td>\n",
       "      <td>44.000000</td>\n",
       "      <td>40.250000</td>\n",
       "    </tr>\n",
       "    <tr>\n",
       "      <th>max</th>\n",
       "      <td>56.000000</td>\n",
       "      <td>65.000000</td>\n",
       "      <td>65.000000</td>\n",
       "      <td>78.000000</td>\n",
       "    </tr>\n",
       "  </tbody>\n",
       "</table>\n",
       "</div>"
      ],
      "text/plain": [
       "            DBMS         DF         PS         DS\n",
       "count  50.000000  50.000000  50.000000  50.000000\n",
       "mean   21.560000  36.680000  33.600000  33.720000\n",
       "std    15.842542  15.410624  14.437762  15.355701\n",
       "min     0.000000   2.000000   1.000000   2.000000\n",
       "25%     9.000000  25.000000  24.000000  24.250000\n",
       "50%    23.000000  36.000000  28.500000  31.500000\n",
       "75%    32.750000  47.750000  44.000000  40.250000\n",
       "max    56.000000  65.000000  65.000000  78.000000"
      ]
     },
     "execution_count": 132,
     "metadata": {},
     "output_type": "execute_result"
    }
   ],
   "source": [
    "data[[\"DBMS\",\"DF\",\"PS\",\"DS\"]].describe()"
   ]
  },
  {
   "attachments": {},
   "cell_type": "markdown",
   "metadata": {},
   "source": [
    "## Analysis to be done:\n",
    "\n",
    "- Number of Students that appeard in each exam\n",
    "- Average Score of the Batch in each Subject\n",
    "- Number of Students Failed in each Subject\n",
    "- List of Students that failed in each Subject\n",
    "- Pie Chart representation b/w Pass/Fail in Each Subject\n",
    "- Bar Graph representation of Marks Distribution\n",
    "- Pie Chart Distribution of Subjects in terms of number of Students failed\n",
    "\n"
   ]
  },
  {
   "attachments": {},
   "cell_type": "markdown",
   "metadata": {},
   "source": [
    "### DF Analysis"
   ]
  },
  {
   "cell_type": "code",
   "execution_count": 133,
   "metadata": {},
   "outputs": [
    {
     "data": {
      "text/plain": [
       "50"
      ]
     },
     "execution_count": 133,
     "metadata": {},
     "output_type": "execute_result"
    }
   ],
   "source": [
    "dfcount = data['DF'].value_counts(dropna=True).sum()\n",
    "dfcount"
   ]
  },
  {
   "cell_type": "code",
   "execution_count": 134,
   "metadata": {},
   "outputs": [
    {
     "name": "stdout",
     "output_type": "stream",
     "text": [
      "DF    36.68\n",
      "dtype: float64\n"
     ]
    }
   ],
   "source": [
    "dfavg = pd.DataFrame(data['DF'])\n",
    "\n",
    "print(dfavg.sum()/dfcount)"
   ]
  },
  {
   "cell_type": "code",
   "execution_count": 135,
   "metadata": {},
   "outputs": [
    {
     "name": "stdout",
     "output_type": "stream",
     "text": [
      "Number of students failed in DF is:\n",
      "8\n",
      "\n",
      " Those Students are:\n"
     ]
    },
    {
     "data": {
      "text/plain": [
       "3     21\n",
       "4     22\n",
       "5      2\n",
       "6      5\n",
       "42    23\n",
       "47    12\n",
       "48    17\n",
       "49    19\n",
       "Name: DF, dtype: int64"
      ]
     },
     "execution_count": 135,
     "metadata": {},
     "output_type": "execute_result"
    }
   ],
   "source": [
    "a1 = data.DF\n",
    "dffail = a1[a1<24]\n",
    "print(\"Number of students failed in DF is:\")\n",
    "print(dffail.value_counts().sum())\n",
    "print(\"\\n Those Students are:\")\n",
    "dfpass = a1[a1>=24]\n",
    "dffail"
   ]
  },
  {
   "cell_type": "code",
   "execution_count": 136,
   "metadata": {},
   "outputs": [
    {
     "data": {
      "image/png": "[encoded data removed]",
      "text/plain": [
       "<Figure size 640x480 with 1 Axes>"
      ]
     },
     "metadata": {},
     "output_type": "display_data"
    }
   ],
   "source": [
    "datadf = [dffail.value_counts().sum(),dfpass.value_counts().sum()]\n",
    "labels = ['Fail',\"Pass\"]\n",
    "mat.pie(datadf,labels=labels,autopct='%.0f%%')\n",
    "mat.show()"
   ]
  },
  {
   "cell_type": "code",
   "execution_count": 137,
   "metadata": {},
   "outputs": [
    {
     "data": {
      "image/png": "[encoded data removed]",
      "text/plain": [
       "<Figure size 500x500 with 1 Axes>"
      ]
     },
     "metadata": {},
     "output_type": "display_data"
    }
   ],
   "source": [
    "sea.displot(a1,bins=7)\n",
    "mat.show()"
   ]
  },
  {
   "attachments": {},
   "cell_type": "markdown",
   "metadata": {},
   "source": [
    "### DBMS Analysis"
   ]
  },
  {
   "cell_type": "code",
   "execution_count": 138,
   "metadata": {},
   "outputs": [
    {
     "data": {
      "text/plain": [
       "50"
      ]
     },
     "execution_count": 138,
     "metadata": {},
     "output_type": "execute_result"
    }
   ],
   "source": [
    "dbmscount = data['DBMS'].value_counts(dropna=True).sum()\n",
    "dbmscount"
   ]
  },
  {
   "cell_type": "code",
   "execution_count": 139,
   "metadata": {},
   "outputs": [
    {
     "name": "stdout",
     "output_type": "stream",
     "text": [
      "DBMS    21.56\n",
      "dtype: float64\n"
     ]
    }
   ],
   "source": [
    "dbmsavg = pd.DataFrame(data['DBMS'])\n",
    "\n",
    "print(dbmsavg.sum()/dbmscount)"
   ]
  },
  {
   "cell_type": "code",
   "execution_count": 140,
   "metadata": {},
   "outputs": [
    {
     "name": "stdout",
     "output_type": "stream",
     "text": [
      "Number of students failed in DF is:\n",
      "25\n",
      "\n",
      " Those Students are:\n"
     ]
    },
    {
     "data": {
      "text/plain": [
       "2      0\n",
       "3      0\n",
       "6     16\n",
       "7     14\n",
       "9     16\n",
       "11     0\n",
       "17     0\n",
       "19     9\n",
       "21    19\n",
       "22     0\n",
       "24     9\n",
       "26    15\n",
       "28    12\n",
       "30     0\n",
       "31    19\n",
       "32    17\n",
       "34    21\n",
       "38     0\n",
       "39     0\n",
       "41     0\n",
       "43     0\n",
       "44     0\n",
       "46     6\n",
       "49    13\n",
       "50    17\n",
       "Name: DBMS, dtype: int64"
      ]
     },
     "execution_count": 140,
     "metadata": {},
     "output_type": "execute_result"
    }
   ],
   "source": [
    "a2 = data.DBMS\n",
    "dbmsfail = a2[a2<24]\n",
    "print(\"Number of students failed in DF is:\")\n",
    "print(dbmsfail.value_counts().sum())\n",
    "print(\"\\n Those Students are:\")\n",
    "dbmspass = a2[a2>=24]\n",
    "dbmsfail"
   ]
  },
  {
   "cell_type": "code",
   "execution_count": 141,
   "metadata": {},
   "outputs": [
    {
     "data": {
      "image/png": "[encoded data removed]",
      "text/plain": [
       "<Figure size 640x480 with 1 Axes>"
      ]
     },
     "metadata": {},
     "output_type": "display_data"
    }
   ],
   "source": [
    "datadbms = [dbmsfail.value_counts().sum(),dbmspass.value_counts().sum()]\n",
    "labels = ['Fail',\"Pass\"]\n",
    "mat.pie(datadbms,labels=labels,autopct='%.0f%%')\n",
    "mat.show()"
   ]
  },
  {
   "cell_type": "code",
   "execution_count": 142,
   "metadata": {},
   "outputs": [
    {
     "data": {
      "image/png": "[encoded data removed]",
      "text/plain": [
       "<Figure size 500x500 with 1 Axes>"
      ]
     },
     "metadata": {},
     "output_type": "display_data"
    }
   ],
   "source": [
    "sea.displot(a2,bins=7)\n",
    "mat.show()"
   ]
  },
  {
   "attachments": {},
   "cell_type": "markdown",
   "metadata": {},
   "source": [
    "## PS Analysis"
   ]
  },
  {
   "cell_type": "code",
   "execution_count": null,
   "metadata": {},
   "outputs": [],
   "source": []
  }
 ],
 "metadata": {
  "kernelspec": {
   "display_name": "Python 3",
   "language": "python",
   "name": "python3"
  },
  "language_info": {
   "codemirror_mode": {
    "name": "ipython",
    "version": 3
   },
   "file_extension": ".py",
   "mimetype": "text/x-python",
   "name": "python",
   "nbconvert_exporter": "python",
   "pygments_lexer": "ipython3",
   "version": "3.10.9"
  },
  "orig_nbformat": 4
 },
 "nbformat": 4,
 "nbformat_minor": 2
}
